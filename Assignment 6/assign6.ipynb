{
 "cells": [
  {
   "cell_type": "code",
   "execution_count": 8,
   "metadata": {
    "collapsed": false
   },
   "outputs": [],
   "source": [
    "import numpy as np\n",
    "S0=K=100\n",
    "sigma = 0.3\n",
    "r=0.04 # 0.05 in Glasserman\n",
    "dt = 1/52.0\n",
    "m = [2**i for i in xrange(8)]\n",
    "paths = 10000"
   ]
  },
  {
   "cell_type": "code",
   "execution_count": 9,
   "metadata": {
    "collapsed": false,
    "scrolled": true
   },
   "outputs": [
    {
     "name": "stdout",
     "output_type": "stream",
     "text": [
      "[  5.44010874   6.07242044   7.647259     9.80353862  13.35090097\n",
      "  18.10623244  23.88504829  32.82463973]\n",
      "[  5.91079544   6.17469864   7.4529283    8.69979331  14.32381439\n",
      "  19.68517486  25.42103165  33.45809275]\n"
     ]
    }
   ],
   "source": [
    "# estimators\n",
    "pathwise = np.zeros(len(m))\n",
    "pathwise2 = np.zeros(len(m))\n",
    "logratio = np.zeros(len(m))\n",
    "logratio2 = np.zeros(len(m))\n",
    "for (j,mi) in enumerate(m):\n",
    "    for p in xrange(paths):\n",
    "        S = np.zeros(mi+1)\n",
    "        S[0] = S0\n",
    "        Z = np.random.normal(size=mi)\n",
    "        # stock price follows GBM\n",
    "        for i in xrange(mi):\n",
    "            S[i+1] = S[i]*np.exp((r-sigma**2/2)*dt+sigma*np.sqrt(dt)*Z[i])\n",
    "        Sbar = np.sum(S[1:])/mi\n",
    "        # pathwise estimation\n",
    "        tmp = 0.0\n",
    "        if Sbar > K:\n",
    "            tmp = np.sum(S[1:]*(np.log(S[1:]/S[0])-(r+sigma**2/2)*dt*np.arange(1,mi+1)))/sigma\n",
    "        theta = np.exp(-r*mi*dt)/mi*tmp\n",
    "        pathwise[j] = pathwise[j] + theta/paths\n",
    "        pathwise2[j] = pathwise2[j] + theta**2\n",
    "        # logratio estimation\n",
    "        tmp = 0.0\n",
    "        if Sbar > K:\n",
    "            tmp = Sbar - K\n",
    "        tmp2 = np.sum(Z**2-1)/sigma -np.sum(Z)*np.sqrt(dt)\n",
    "        theta = np.exp(-r*mi*dt)*tmp*tmp2\n",
    "        logratio[j] = logratio[j] + theta/paths\n",
    "        logratio2[j] = logratio2[j] + theta**2\n",
    "        \n",
    "        \n",
    "print pathwise\n",
    "print logratio\n",
    "var_p = (pathwise2 - pathwise**2/paths)/(paths-1)\n",
    "var_lr = (logratio2 - logratio**2/paths)/(paths-1)"
   ]
  },
  {
   "cell_type": "code",
   "execution_count": null,
   "metadata": {
    "collapsed": false,
    "scrolled": false
   },
   "outputs": [],
   "source": [
    "%matplotlib inline\n",
    "import matplotlib.pyplot as plt\n",
    "\n",
    "plt.clf()\n",
    "figure(figsize=(10,6))\n",
    "plt.subplot(121)\n",
    "plt.plot(m,logratio,label='Likelihood Ratio')\n",
    "plt.plot(m,pathwise,label='pathwise')\n",
    "plt.legend(loc='upper left')\n",
    "plt.title('Vega')\n",
    "plt.ylabel('Estimated Vega')\n",
    "plt.xlabel('Number of weeks')\n",
    "plt.grid(True)\n",
    "plt.subplot(122)\n",
    "plt.semilogy(m,var_lr,label='Likelihood Ratio')\n",
    "plt.semilogy(m,var_p,label='pathwise')\n",
    "plt.legend(loc='upper left')\n",
    "plt.title('Variance per replication')\n",
    "plt.ylabel('Variance')\n",
    "plt.xlabel('Number of weeks')\n",
    "plt.grid(True,which='both')\n",
    "plt.tight_layout()\n",
    "\n",
    "#plt.savefig('test.png')"
   ]
  },
  {
   "cell_type": "code",
   "execution_count": null,
   "metadata": {
    "collapsed": false
   },
   "outputs": [],
   "source": [
    "[  5.53487332   6.17533879   7.5335626    9.79145049  13.2874627\n",
    "  17.94946055  24.70312888  33.07049152]\n",
    "[  5.53922588   6.20845772   7.51778606   9.75173227  13.39627971\n",
    "  17.57780461  23.42247944  31.64839912]"
   ]
  },
  {
   "cell_type": "code",
   "execution_count": 4,
   "metadata": {
    "collapsed": false
   },
   "outputs": [
    {
     "name": "stdout",
     "output_type": "stream",
     "text": [
      "[  102.53584177   131.48651005   197.9115133    352.76615346   682.07432752\n",
      "  1402.4494276   3060.46812402  7092.94819781]\n"
     ]
    }
   ],
   "source": [
    "print var_p"
   ]
  },
  {
   "cell_type": "markdown",
   "metadata": {},
   "source": [
    "# Exercise 3"
   ]
  },
  {
   "cell_type": "code",
   "execution_count": 9,
   "metadata": {
    "collapsed": false
   },
   "outputs": [],
   "source": [
    "import numpy as np\n",
    "\n",
    "S0=K=100\n",
    "T=0.25\n",
    "sigma=0.3\n",
    "r=.05\n",
    "epsilon = np.arange(10,71,dtype=float,step=2)\n",
    "paths = 50000\n",
    "\n",
    "theta = np.zeros(len(epsilon))\n",
    "theta2 = np.zeros(len(epsilon))\n",
    "for (i,e) in enumerate(epsilon):\n",
    "    for p in xrange(paths):\n",
    "        Z = np.random.normal()\n",
    "        ST = S0*np.exp((r-sigma**2/2)*T+sigma*np.sqrt(T)*Z)\n",
    "        \n",
    "        pathwise_part = float(np.abs(ST-K)<e)*ST/S0/(2*e)\n",
    "        \n",
    "        likelihood_part = (float(ST > K) - np.minimum(1.,np.maximum(0.,ST-K+e)/(2*e)))*Z/(S0*sigma*np.sqrt(T))\n",
    "        tmp = np.exp(-r*T)*(pathwise_part + likelihood_part)\n",
    "        theta[i] = theta[i] + tmp/paths\n",
    "        theta2[i] = theta2[i] + tmp**2\n",
    "theta\n",
    "var = (theta2 - theta**2/paths)/(paths-1)"
   ]
  },
  {
   "cell_type": "code",
   "execution_count": 10,
   "metadata": {
    "collapsed": false
   },
   "outputs": [
    {
     "data": {
      "image/png": "[encoded data removed]",
      "text/plain": [
       "<matplotlib.figure.Figure at 0x8459898>"
      ]
     },
     "metadata": {},
     "output_type": "display_data"
    }
   ],
   "source": [
    "import matplotlib.pyplot as plt\n",
    "\n",
    "plt.clf()\n",
    "plt.plot(epsilon,var)\n",
    "plt.title('Variance of combined pathwise and likelihood ratio\\nestimators of the delta of a digital option')\n",
    "plt.ylabel('Variance')\n",
    "plt.xlabel('Epsilon')\n",
    "plt.grid(True)\n",
    "plt.tight_layout()\n",
    "plt.show()\n",
    "#plt.savefig('exe3.png')"
   ]
  },
  {
   "cell_type": "code",
   "execution_count": 3,
   "metadata": {
    "collapsed": false
   },
   "outputs": [
    {
     "data": {
      "text/plain": [
       "array([ 0.01295061,  0.00435745,  0.0026654 ,  0.00191035,  0.00152338,\n",
       "        0.00128502,  0.0011311 ,  0.00101188,  0.00093573,  0.00087772,\n",
       "        0.00083483,  0.00080266,  0.00077994,  0.00076357,  0.00075419,\n",
       "        0.00074688,  0.00074247,  0.00073844,  0.00074282,  0.00074238,\n",
       "        0.00074718,  0.0007473 ,  0.00075   ,  0.00075532,  0.00076159,\n",
       "        0.00076586,  0.00076725,  0.00077607,  0.0007805 ,  0.00078532,\n",
       "        0.00079164,  0.00079807,  0.00080068,  0.00080996,  0.00080906])"
      ]
     },
     "execution_count": 3,
     "metadata": {},
     "output_type": "execute_result"
    }
   ],
   "source": [
    "var"
   ]
  }
 ],
 "metadata": {
  "anaconda-cloud": {},
  "kernelspec": {
   "display_name": "Python [default]",
   "language": "python",
   "name": "python2"
  },
  "language_info": {
   "codemirror_mode": {
    "name": "ipython",
    "version": 2
   },
   "file_extension": ".py",
   "mimetype": "text/x-python",
   "name": "python",
   "nbconvert_exporter": "python",
   "pygments_lexer": "ipython2",
   "version": "2.7.12"
  }
 },
 "nbformat": 4,
 "nbformat_minor": 1
}
